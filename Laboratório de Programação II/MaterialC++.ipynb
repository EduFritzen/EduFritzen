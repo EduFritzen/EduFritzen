{
 "cells": [
  {
   "cell_type": "markdown",
   "id": "4d675de1-21dc-4e06-bbd9-bb6155fc4d2c",
   "metadata": {
    "tags": []
   },
   "source": [
    "# Conceitos Básicos de C++"
   ]
  },
  {
   "cell_type": "markdown",
   "id": "4d6ffc41-a709-4021-aa73-7c7fccd881bf",
   "metadata": {},
   "source": [
    "C++ é uma linguagem de programação multi-paradigma criada por Bjarne Stroustup em 1983, surgiu como uma evolução natural da linguagem C e com novos recursos implementados para fornecer aos desenvolvedores um maior grau de controle sobre a memória e os recursos do sistema. C++ pode ser tanto usado como uma linguagem de alto nível quanto de baixo nível."
   ]
  },
  {
   "cell_type": "markdown",
   "id": "e4975150-3dfd-44b8-ab84-e655f30e4c4a",
   "metadata": {},
   "source": [
    "## Inicialização de variáveis"
   ]
  },
  {
   "cell_type": "markdown",
   "id": "c3fd4146-96cf-4ba2-a9aa-97a013caeecc",
   "metadata": {},
   "source": [
    "O programa inicia variáveis de diversos tipos e printa os valores."
   ]
  },
  {
   "cell_type": "code",
   "execution_count": 1,
   "id": "8f03334d-93aa-4f28-89e0-6b1780e2c2ca",
   "metadata": {},
   "outputs": [],
   "source": [
    "#include <iostream>\n",
    "\n",
    "int main()\n",
    "{\n",
    "    int a = 15;\n",
    "    char b = 'a';\n",
    "    float c = 5.432;\n",
    "    auto d = 7.43213; //Auto é deduzido pelo compilador\n",
    "    bool e = true;\n",
    "    auto f = 'm';\n",
    "    std::cout << \"Int: \" << a << std::endl;\n",
    "    std::cout << \"Char: \" << b << std::endl;\n",
    "    std::cout << \"Float: \" << c << std::endl;\n",
    "    std::cout << \"Auto: \" << d << std::endl;\n",
    "    std::cout << \"Bool: \" << e << std::endl;\n",
    "    std::cout << \"Auto: \" << f << std::endl;\n",
    "}"
   ]
  },
  {
   "cell_type": "code",
   "execution_count": 2,
   "id": "0c989231-f1de-4684-843b-d73d0b189f86",
   "metadata": {},
   "outputs": [
    {
     "name": "stdout",
     "output_type": "stream",
     "text": [
      "Int: 15\n",
      "Char: a\n",
      "Float: 5.432\n",
      "Auto: 7.43213\n",
      "Bool: 1\n",
      "Auto: m\n"
     ]
    }
   ],
   "source": [
    "main();"
   ]
  },
  {
   "cell_type": "markdown",
   "id": "42853de7-ae0e-4703-a78b-e14d7bc1d5ce",
   "metadata": {},
   "source": [
    "\n",
    "iostream -> biblioteca padrão de entrada e saída do C++ "
   ]
  },
  {
   "cell_type": "markdown",
   "id": "02d4380a-c7bd-421b-9fef-80429db86c99",
   "metadata": {},
   "source": [
    "std::cout é a saída padrão\n"
   ]
  },
  {
   "cell_type": "markdown",
   "id": "f3f38a12-e8f9-41f3-a873-8d8675853f46",
   "metadata": {},
   "source": [
    "## Uso de strings"
   ]
  },
  {
   "cell_type": "markdown",
   "id": "820eee83-dfe9-467b-b795-9fd38cf0ed70",
   "metadata": {},
   "source": [
    "O programa cria três strings, usa formas de manipulá-las e printa os valores."
   ]
  },
  {
   "cell_type": "code",
   "execution_count": 3,
   "id": "afadc02f-30da-4451-b2a5-f761935c027d",
   "metadata": {},
   "outputs": [],
   "source": [
    "#include <iostream>\n",
    "\n",
    "int main(){\n",
    "    std::string y = \"Olá mundo.\";\n",
    "    std::string a = \"Oi \";\n",
    "    std::string b = \"mundo.\";\n",
    "    a += b;\n",
    "    std::cout << y << std::endl;\n",
    "    std::cout << a << std::endl;\n",
    "}"
   ]
  },
  {
   "cell_type": "code",
   "execution_count": 4,
   "id": "25525191-4b1d-46a2-ad60-0303c7a26a36",
   "metadata": {},
   "outputs": [
    {
     "name": "stdout",
     "output_type": "stream",
     "text": [
      "Olá mundo.\n",
      "Oi mundo.\n"
     ]
    }
   ],
   "source": [
    "main();"
   ]
  },
  {
   "cell_type": "markdown",
   "id": "279dd228-4101-4823-b097-fb691445f7c9",
   "metadata": {},
   "source": [
    "\n",
    "std::string é uma estrutura de C++ para string"
   ]
  },
  {
   "cell_type": "markdown",
   "id": "c9d14f8e-00d8-4135-9020-edc36e724192",
   "metadata": {},
   "source": [
    "std::endl para sinalizar nova linha\n"
   ]
  },
  {
   "cell_type": "markdown",
   "id": "1ecaf497-db7c-456c-a8d4-58ad7dc6cc9a",
   "metadata": {},
   "source": [
    "## Casting(Conversão)"
   ]
  },
  {
   "cell_type": "markdown",
   "id": "219f57ac-f98c-4328-b7c9-200d36ad8ce3",
   "metadata": {},
   "source": [
    "\n",
    "**static_cast**"
   ]
  },
  {
   "cell_type": "markdown",
   "id": "d805bce0-9ee8-43a5-8fc8-8eaeec51b190",
   "metadata": {},
   "source": [
    "O programa converte o tipo **float** em **int** e o tipo **int** em **char**."
   ]
  },
  {
   "cell_type": "code",
   "execution_count": 5,
   "id": "722e64af-d2ca-496b-9b0f-3ba018f0838c",
   "metadata": {},
   "outputs": [],
   "source": [
    "#include <iostream>\n",
    "\n",
    "int main()\n",
    "{\n",
    "    float a = 3.5;\n",
    "    int b = 98;\n",
    "    std::cout << \"Conversão\\nAntes: \" << a << \" \" << b;\n",
    "    int c = static_cast<int>(a);\n",
    "    char d = static_cast<char>(b);\n",
    "    std::cout << \"\\nDepois: \" << c << \" \" << d;\n",
    "}"
   ]
  },
  {
   "cell_type": "code",
   "execution_count": 6,
   "id": "6dca8c3a-ab6a-4bc7-9212-7c4ebc3be3cc",
   "metadata": {},
   "outputs": [
    {
     "name": "stdout",
     "output_type": "stream",
     "text": [
      "Conversão\n",
      "Antes: 3.5 98\n",
      "Depois: 3 b"
     ]
    },
    {
     "data": {
      "text/plain": [
       "0"
      ]
     },
     "execution_count": 6,
     "metadata": {},
     "output_type": "execute_result"
    }
   ],
   "source": [
    "main()"
   ]
  },
  {
   "cell_type": "markdown",
   "id": "99641508-bafb-40ac-8389-59f2967b800a",
   "metadata": {},
   "source": [
    "\n",
    "**reinterpret_cast**"
   ]
  },
  {
   "cell_type": "markdown",
   "id": "c5bc63f0-f244-4f57-9bd9-5518e2a01269",
   "metadata": {},
   "source": [
    "O programa converte o tipo **int** em **char**."
   ]
  },
  {
   "cell_type": "code",
   "execution_count": 7,
   "id": "6b861dcd-bd0c-439a-b9d8-24a948260380",
   "metadata": {},
   "outputs": [],
   "source": [
    "#include <iostream>\n",
    " \n",
    "int main()\n",
    "{\n",
    "    int* a = new int(65);\n",
    "    char* b = reinterpret_cast<char*>(a);\n",
    "    std::cout << \"Conversão\\nAntes: \" << *a;\n",
    "    std::cout << \"\\nDepois: \" << *b;\n",
    "}"
   ]
  },
  {
   "cell_type": "code",
   "execution_count": 8,
   "id": "45ff5d89-4989-4040-9c9c-d19b8eca7a17",
   "metadata": {},
   "outputs": [
    {
     "name": "stdout",
     "output_type": "stream",
     "text": [
      "Conversão\n",
      "Antes: 65\n",
      "Depois: A"
     ]
    },
    {
     "data": {
      "text/plain": [
       "0"
      ]
     },
     "execution_count": 8,
     "metadata": {},
     "output_type": "execute_result"
    }
   ],
   "source": [
    "main()"
   ]
  },
  {
   "cell_type": "markdown",
   "id": "a0f000dc-dec7-4bb9-84b2-c30d670e67d9",
   "metadata": {},
   "source": [
    "\n",
    "**const_cast**"
   ]
  },
  {
   "cell_type": "markdown",
   "id": "0b223670-f61e-43fb-9f6c-ef7fb99a6007",
   "metadata": {},
   "source": [
    "O programa troca o valor de uma **constante inteira**."
   ]
  },
  {
   "cell_type": "code",
   "execution_count": 9,
   "id": "3b3e3db5-f0c7-4e7a-b2ed-477da02ea2ae",
   "metadata": {},
   "outputs": [],
   "source": [
    "#include <iostream>\n",
    " \n",
    "int main()\n",
    "{\n",
    "    const int x = 50;\n",
    "    const int* y = &x;\n",
    "    std::cout << \"Valor antigo: \"<< *y << \"\\n\";\n",
    "    int* z= const_cast<int *>(y);\n",
    "    *z=100;\n",
    "    std::cout << \"Valor novo: \" << *y;\n",
    "}"
   ]
  },
  {
   "cell_type": "code",
   "execution_count": 10,
   "id": "3bc4cc61-7326-418a-9792-67eca19b11fd",
   "metadata": {},
   "outputs": [
    {
     "name": "stdout",
     "output_type": "stream",
     "text": [
      "Valor antigo: 50\n",
      "Valor novo: 100"
     ]
    },
    {
     "data": {
      "text/plain": [
       "0"
      ]
     },
     "execution_count": 10,
     "metadata": {},
     "output_type": "execute_result"
    }
   ],
   "source": [
    "main()"
   ]
  },
  {
   "cell_type": "markdown",
   "id": "7a02c353-b81f-4fba-ada5-5d9b120ba085",
   "metadata": {},
   "source": [
    "## Passagem de parâmetros"
   ]
  },
  {
   "cell_type": "markdown",
   "id": "c055301f-b4de-4d6a-b88f-f5ad54653054",
   "metadata": {},
   "source": [
    "Diferentemente da linguagem \"C\", a chamada a uma função em C++ pode alterar o valor de uma variável definida antes da chamada da função, mesmo sem esta variável ser explicitamente passada como um ponteiro. Este modo é chamado de passagem por referência."
   ]
  },
  {
   "cell_type": "code",
   "execution_count": 11,
   "id": "19f46d6e-708a-417d-bda5-bad39a0af5ad",
   "metadata": {},
   "outputs": [],
   "source": [
    "void f(int & x, int y){\n",
    "    x--;\n",
    "    y--;\n",
    "}"
   ]
  },
  {
   "cell_type": "code",
   "execution_count": 12,
   "id": "aea2f7c3-395c-4c56-9e8d-cbee7ce4c751",
   "metadata": {},
   "outputs": [],
   "source": [
    "#include <iostream>\n",
    "\n",
    "int main(void)\n",
    "{\n",
    "    int a = 4;\n",
    "    int b = 4;\n",
    "    f(a, b);\n",
    "    std::cout<< a << \" \" << b;\n",
    "}"
   ]
  },
  {
   "cell_type": "code",
   "execution_count": 13,
   "id": "f20f85b9-15f7-45da-81b8-09ebe2021e37",
   "metadata": {},
   "outputs": [
    {
     "name": "stdout",
     "output_type": "stream",
     "text": [
      "3 4"
     ]
    },
    {
     "data": {
      "text/plain": [
       "0"
      ]
     },
     "execution_count": 13,
     "metadata": {},
     "output_type": "execute_result"
    }
   ],
   "source": [
    "main()"
   ]
  },
  {
   "cell_type": "markdown",
   "id": "78cc095b-9d36-43c4-8c75-88ae061627b3",
   "metadata": {},
   "source": [
    "## Estrutura de dados"
   ]
  },
  {
   "cell_type": "markdown",
   "id": "f6eea9ef-55ce-4fe0-86ae-ccd73c7bac1c",
   "metadata": {},
   "source": [
    "O programa cria um vetor de struct e usa suas funções."
   ]
  },
  {
   "cell_type": "code",
   "execution_count": 14,
   "id": "76b44303-a707-46d6-9c20-73dbf90e3964",
   "metadata": {},
   "outputs": [],
   "source": [
    "#include <iostream>\n",
    "\n",
    "struct Produto{\n",
    "    std::string nome;\n",
    "    int preco;\n",
    "    \n",
    "    void insere (std::string name, int price){\n",
    "        nome=name;\n",
    "        preco=price;\n",
    "    }\n",
    "    \n",
    "    void info(){\n",
    "        std::cout << \"Nome: \" << nome << std::endl;\n",
    "        std::cout << \"Preço: \" << preco << std::endl;\n",
    "    }\n",
    "};"
   ]
  },
  {
   "cell_type": "code",
   "execution_count": 15,
   "id": "b8959e2a-e758-4f1e-81dc-704ff77b65c1",
   "metadata": {},
   "outputs": [],
   "source": [
    "#include <iostream>\n",
    "\n",
    "int main()\n",
    "{\n",
    "    Produto *p = new Produto[2];\n",
    "    p[0].insere(\"Geladeira\", 2500);\n",
    "    p[1].insere(\"Forno\", 450);\n",
    "    p[0].info();\n",
    "    p[1].info();\n",
    "}"
   ]
  },
  {
   "cell_type": "code",
   "execution_count": 16,
   "id": "32c79211-a2d1-4de1-be34-943d653e3723",
   "metadata": {},
   "outputs": [
    {
     "name": "stdout",
     "output_type": "stream",
     "text": [
      "Nome: Geladeira\n",
      "Preço: 2500\n",
      "Nome: Forno\n",
      "Preço: 450\n"
     ]
    },
    {
     "data": {
      "text/plain": [
       "0"
      ]
     },
     "execution_count": 16,
     "metadata": {},
     "output_type": "execute_result"
    }
   ],
   "source": [
    "main()"
   ]
  },
  {
   "cell_type": "markdown",
   "id": "96d14b4a-cb3c-4184-8bc2-b25325af3fc2",
   "metadata": {},
   "source": [
    "## Tratamento de Erros"
   ]
  },
  {
   "cell_type": "markdown",
   "id": "40bca1dd-7e81-47e0-b24e-19b24f3f5727",
   "metadata": {},
   "source": [
    "O programa cria uma mensagem de erro, caso o if seja verdadeiro."
   ]
  },
  {
   "cell_type": "code",
   "execution_count": 17,
   "id": "cd5aab67-fc1f-465b-a043-2d3b5f117123",
   "metadata": {},
   "outputs": [],
   "source": [
    "#include <iostream>\n",
    "\n",
    "int main(void)\n",
    "{\n",
    "    int a, b;\n",
    "    std::cout << \"Digite dois numeros, tal que o primeiro seja maior que o segundo: \";\n",
    "    std::cin >> a >> b;\n",
    "    if(a < b)\n",
    "        throw std::runtime_error {\"a é menor que b!\"};\n",
    "}"
   ]
  },
  {
   "cell_type": "code",
   "execution_count": 18,
   "id": "8551f129-b96e-483a-823c-396d857534fd",
   "metadata": {},
   "outputs": [
    {
     "name": "stdout",
     "output_type": "stream",
     "text": [
      "Digite dois numeros, tal que o primeiro seja maior que o segundo: "
     ]
    },
    {
     "name": "stdin",
     "output_type": "stream",
     "text": [
      " 2 1\n"
     ]
    },
    {
     "data": {
      "text/plain": [
       "0"
      ]
     },
     "execution_count": 18,
     "metadata": {},
     "output_type": "execute_result"
    }
   ],
   "source": [
    "main()"
   ]
  },
  {
   "cell_type": "markdown",
   "id": "55c1bbfb-36af-4e4a-9a18-ffb9ccfb1172",
   "metadata": {},
   "source": [
    "O programa pede dois numeros menores ou iguais a 10 e usa try catch para tratamento de erro."
   ]
  },
  {
   "cell_type": "code",
   "execution_count": 19,
   "id": "dde2925f-6f8f-4f29-8ab3-ee79bb6958f3",
   "metadata": {},
   "outputs": [],
   "source": [
    "#include <iostream>\n",
    "\n",
    "int main()\n",
    "{\n",
    "    int n1, n2;\n",
    "    std::cout << \"Digite dois numeros menores ou iguais a 10: \";\n",
    "    std::cin >> n1 >> n2;\n",
    "    try{\n",
    "        if(n1>10){\n",
    "            throw \"n1 é maior que 10.\";\n",
    "        }\n",
    "        if(n2>10){\n",
    "            throw \"n2 é maior que 10.\";\n",
    "        }\n",
    "        std::cout << n1*n2;\n",
    "    }catch(const char* erro){ // a string passada é uma constante\n",
    "        std::cout << \"ERRO: \" << erro;\n",
    "    }\n",
    "}"
   ]
  },
  {
   "cell_type": "code",
   "execution_count": 20,
   "id": "9063ec1d-fcb3-4637-a185-d66a843e8670",
   "metadata": {},
   "outputs": [
    {
     "name": "stdout",
     "output_type": "stream",
     "text": [
      "Digite dois numeros menores ou iguais a 10: "
     ]
    },
    {
     "name": "stdin",
     "output_type": "stream",
     "text": [
      " 1 2\n"
     ]
    },
    {
     "name": "stdout",
     "output_type": "stream",
     "text": [
      "2"
     ]
    },
    {
     "data": {
      "text/plain": [
       "0"
      ]
     },
     "execution_count": 20,
     "metadata": {},
     "output_type": "execute_result"
    }
   ],
   "source": [
    "main()"
   ]
  },
  {
   "cell_type": "markdown",
   "id": "95ebf873-22eb-4fc4-b170-d9f080409896",
   "metadata": {},
   "source": [
    " ## Entrada e saída"
   ]
  },
  {
   "cell_type": "markdown",
   "id": "e7d14699-6f7b-4ab6-ac8c-8cc436104eb6",
   "metadata": {},
   "source": [
    "O programa cria um arquivo Exemplo.txt e escreve strings dentro dele."
   ]
  },
  {
   "cell_type": "code",
   "execution_count": 75,
   "id": "70489b33-c936-4989-b333-e34607a8be1a",
   "metadata": {},
   "outputs": [],
   "source": [
    "#include <iostream>\n",
    "#include <fstream>\n",
    "\n",
    "int main(void)\n",
    "{\n",
    "    std::ofstream novoArquivo;\n",
    "    novoArquivo.open(\"Exemplo.txt\");\n",
    "    novoArquivo << \"Oi mundo\\n\";\n",
    "    novoArquivo << \"C++ é legal!\";\n",
    "    novoArquivo.close();\n",
    "}"
   ]
  },
  {
   "cell_type": "code",
   "execution_count": 76,
   "id": "bd919ec7-59b7-4a6d-9d6b-3ec5bd4cf829",
   "metadata": {},
   "outputs": [
    {
     "data": {
      "text/plain": [
       "0"
      ]
     },
     "execution_count": 76,
     "metadata": {},
     "output_type": "execute_result"
    }
   ],
   "source": [
    "main()"
   ]
  },
  {
   "cell_type": "markdown",
   "id": "8f981b58-9589-4559-84bc-b2ad9a03be2a",
   "metadata": {},
   "source": [
    "O programa lê o arquivo Exemplo.txt e printa as strings dentro dele."
   ]
  },
  {
   "cell_type": "code",
   "execution_count": 23,
   "id": "15fe3b5f-18d6-46f9-974d-b0cdcb6ed965",
   "metadata": {},
   "outputs": [],
   "source": [
    "#include <iostream>\n",
    "#include <fstream>\n",
    "\n",
    "int main(void)\n",
    "{\n",
    "    std::ifstream arq;\n",
    "    std::string str;\n",
    "    arq.open(\"Exemplo.txt\");\n",
    "    if(arq.is_open()){\n",
    "        while(getline(arq, str)){\n",
    "            std::cout << str << std::endl;\n",
    "        }\n",
    "    }\n",
    "    else{\n",
    "        std::cout << \"Erro ao abrir o arquivo.\";\n",
    "    }\n",
    "}"
   ]
  },
  {
   "cell_type": "code",
   "execution_count": 24,
   "id": "feb696bd-3abf-465d-8cd2-6a42336b6c51",
   "metadata": {},
   "outputs": [
    {
     "name": "stdout",
     "output_type": "stream",
     "text": [
      "Oi mundo\n",
      "C++ é legal!\n"
     ]
    },
    {
     "data": {
      "text/plain": [
       "0"
      ]
     },
     "execution_count": 24,
     "metadata": {},
     "output_type": "execute_result"
    }
   ],
   "source": [
    "main()"
   ]
  },
  {
   "cell_type": "markdown",
   "id": "b2a5782a-c90d-4473-a9db-10716c3fa02f",
   "metadata": {},
   "source": [
    "\n",
    "## Alocação de memória"
   ]
  },
  {
   "cell_type": "markdown",
   "id": "352e6173-4335-4688-bbb0-a4c4fbf8e1d8",
   "metadata": {},
   "source": [
    "O programa aloca duas variáveis, uma int e uma float, e deleta elas depois de printar seus valores."
   ]
  },
  {
   "cell_type": "code",
   "execution_count": 25,
   "id": "75171429-5c20-4b18-a94f-c70ee0798fb1",
   "metadata": {},
   "outputs": [],
   "source": [
    "#include <iostream>\n",
    " \n",
    "int main ()\n",
    "{\n",
    "    int* a = NULL;\n",
    "    a = new int;\n",
    "    if (!a){\n",
    "        std::cout << \"Alocação de Memória falhou\\n\";\n",
    "    }\n",
    "    else{\n",
    "        *a = 29;\n",
    "        std::cout << \"Valor de a: \" << *a << std::endl;\n",
    "    }\n",
    "    \n",
    "    float *b = new float(75.25);\n",
    "    std::cout << \"Valor de b: \" << *b << std::endl;\n",
    " \n",
    "    delete a;\n",
    "    delete b;\n",
    "}"
   ]
  },
  {
   "cell_type": "code",
   "execution_count": 26,
   "id": "ff4124e6-5320-4a89-9b92-626d872c7dd8",
   "metadata": {},
   "outputs": [
    {
     "name": "stdout",
     "output_type": "stream",
     "text": [
      "Valor de a: 29\n",
      "Valor de b: 75.25\n"
     ]
    },
    {
     "data": {
      "text/plain": [
       "0"
      ]
     },
     "execution_count": 26,
     "metadata": {},
     "output_type": "execute_result"
    }
   ],
   "source": [
    "main()"
   ]
  },
  {
   "cell_type": "markdown",
   "id": "544de067-7bd4-4ce6-a0b5-42cd6207eb3d",
   "metadata": {},
   "source": [
    "O programa aloca um vetor de inteiros e o deleta depois de printar seus valores."
   ]
  },
  {
   "cell_type": "code",
   "execution_count": 77,
   "id": "0e73d428-bddc-420d-a943-6c0d819f1ea6",
   "metadata": {},
   "outputs": [],
   "source": [
    "#include <iostream>\n",
    " \n",
    "int main ()\n",
    "{\n",
    "    int n = 5;\n",
    "    int *vet = new int[n];\n",
    "    if (!vet){\n",
    "       std::cout << \"allocation of memory failed\\n\";\n",
    "    }\n",
    "    else{\n",
    "        for (int i = 0; i < n; i++){\n",
    "            vet[i] = i+1;\n",
    "        }\n",
    " \n",
    "        for (int i = 0; i < n; i++)\n",
    "            std::cout << vet[i] << \" \";\n",
    "    }\n",
    "    delete[] vet;\n",
    "}"
   ]
  },
  {
   "cell_type": "code",
   "execution_count": 78,
   "id": "d4506f2b-0516-4f9a-8476-9863dc5d9d6f",
   "metadata": {},
   "outputs": [
    {
     "name": "stdout",
     "output_type": "stream",
     "text": [
      "1 2 3 4 5 "
     ]
    },
    {
     "data": {
      "text/plain": [
       "0"
      ]
     },
     "execution_count": 78,
     "metadata": {},
     "output_type": "execute_result"
    }
   ],
   "source": [
    "main()"
   ]
  },
  {
   "cell_type": "markdown",
   "id": "3966f167-3bf6-4dae-b37c-4f88dc243aaa",
   "metadata": {},
   "source": [
    "\n",
    "## Smart Pointers"
   ]
  },
  {
   "cell_type": "markdown",
   "id": "580f6c8f-85fe-4979-aea2-38b3ddbc7d4c",
   "metadata": {},
   "source": [
    "São úteis pois eliminam a necesidade de gerenciamento de memória do ponteiro, ele é eliminado quando o programa não o usa mais."
   ]
  },
  {
   "cell_type": "code",
   "execution_count": 29,
   "id": "0da89e27-c791-481c-b874-cf7d2f554cf5",
   "metadata": {},
   "outputs": [],
   "source": [
    "#include <iostream>\n",
    "#include <memory>\n",
    "\n",
    "int main(void)\n",
    "{\n",
    "    /* Sem smart pointers\n",
    "    string* str = new string(\"smart pointers are cool!\");\n",
    "    std::cout << *str << \" - tamanho: \"<< str->size() << std::endl;\n",
    "    delete str;\n",
    "    */\n",
    "    std::unique_ptr<std::string>str(new std::string(\"smart pointers are cool!\"));\n",
    "    std::cout << *str << \" - tamanho: \"<< str->size() << std::endl;\n",
    "}"
   ]
  },
  {
   "cell_type": "code",
   "execution_count": 30,
   "id": "3a637245-6fa1-479f-b576-e16f4d74a57d",
   "metadata": {},
   "outputs": [
    {
     "name": "stdout",
     "output_type": "stream",
     "text": [
      "smart pointers are cool! - tamanho: 24\n"
     ]
    },
    {
     "data": {
      "text/plain": [
       "0"
      ]
     },
     "execution_count": 30,
     "metadata": {},
     "output_type": "execute_result"
    }
   ],
   "source": [
    "main()"
   ]
  },
  {
   "cell_type": "markdown",
   "id": "fb631cf9-d270-479d-bcc5-1e4b1ccbdf96",
   "metadata": {},
   "source": [
    "O programa move o smart pointer de ptr1 para ptr2."
   ]
  },
  {
   "cell_type": "code",
   "execution_count": 31,
   "id": "53d086fb-37ed-48f4-94bf-5dc94c02cb7d",
   "metadata": {},
   "outputs": [],
   "source": [
    "#include <iostream>\n",
    "#include <memory>\n",
    "\n",
    "int main () {\n",
    "    std::unique_ptr<int> ptr1;\n",
    "    std::unique_ptr<int> ptr2;\n",
    "    ptr1 = std::unique_ptr<int>(new int (101)); \n",
    "    ptr2 = std::move(ptr1);                      \n",
    "    std::cout << \"ptr1: \";\n",
    "    if (ptr1)\n",
    "        std::cout << *ptr1 << '\\n';\n",
    "    else\n",
    "        std::cout << \"vazio\\n\";\n",
    "    \n",
    "    std::cout << \"ptr2: \";\n",
    "    if (ptr2) \n",
    "        std::cout << *ptr2 << '\\n'; \n",
    "    else \n",
    "        std::cout << \"vazio\\n\";\n",
    "}"
   ]
  },
  {
   "cell_type": "code",
   "execution_count": 32,
   "id": "6d4dc4c2-78aa-477c-9d18-0b76cf23d9a8",
   "metadata": {},
   "outputs": [
    {
     "name": "stdout",
     "output_type": "stream",
     "text": [
      "ptr1: vazio\n",
      "ptr2: 101\n"
     ]
    },
    {
     "data": {
      "text/plain": [
       "0"
      ]
     },
     "execution_count": 32,
     "metadata": {},
     "output_type": "execute_result"
    }
   ],
   "source": [
    "main()"
   ]
  },
  {
   "cell_type": "markdown",
   "id": "23163ac6-4d2f-4af8-8dd3-ba9f5735314c",
   "metadata": {},
   "source": [
    "\n",
    "release substitui a propriedade do que o ponteiro armazena por um ponteiro nulo."
   ]
  },
  {
   "cell_type": "code",
   "execution_count": 33,
   "id": "d54f793a-58bc-447f-abb6-6fb9bc0a3703",
   "metadata": {},
   "outputs": [],
   "source": [
    "#include <iostream>\n",
    "#include <memory>\n",
    "\n",
    "int main () {\n",
    "  std::unique_ptr<int> smart_pointer (new int);\n",
    "  int * manual_pointer;\n",
    "  *smart_pointer=10;\n",
    "  \n",
    "  manual_pointer = smart_pointer.release(); // smart_pointer está vazio\n",
    "\n",
    "  std::cout << \"manual_pointer: \" << *manual_pointer << '\\n';\n",
    "  \n",
    "  if(smart_pointer==nullptr){\n",
    "      std::cout<< \"smart_pointer é nullptr\";\n",
    "  }\n",
    "  delete manual_pointer;\n",
    "}"
   ]
  },
  {
   "cell_type": "code",
   "execution_count": 34,
   "id": "6d0b798b-924f-4d13-a2c2-48aa2f516d38",
   "metadata": {},
   "outputs": [
    {
     "name": "stdout",
     "output_type": "stream",
     "text": [
      "manual_pointer: 10\n",
      "smart_pointer é nullptr"
     ]
    },
    {
     "data": {
      "text/plain": [
       "0"
      ]
     },
     "execution_count": 34,
     "metadata": {},
     "output_type": "execute_result"
    }
   ],
   "source": [
    "main()"
   ]
  },
  {
   "cell_type": "markdown",
   "id": "97d9816c-8ac6-4075-b8a4-b2c97baa108d",
   "metadata": {},
   "source": [
    "\n",
    "Outro exemplo com a função get. Get reotrna o ponteiro armazenado."
   ]
  },
  {
   "cell_type": "code",
   "execution_count": 35,
   "id": "08778646-90a0-473d-b42c-be6b70086983",
   "metadata": {},
   "outputs": [],
   "source": [
    "#include <iostream>\n",
    "#include <memory>\n",
    "\n",
    "int main () {\n",
    "                                           // sp1   sp2    p\n",
    "                                           // ---   ---   ---\n",
    "  std::unique_ptr<int> sp1;                // null\n",
    "  std::unique_ptr<int> sp2;                // null  null\n",
    "  int* p = nullptr;                        // null  null  null\n",
    "\n",
    "  sp1 = std::unique_ptr<int>(new int(10)); // (10)  null  null\n",
    "  sp2 = std::move(sp1);                    // null  (10)  null\n",
    "  p = sp2.get();                           // null  (10)  (10)\n",
    "  *p = 20;                                 // null  (20)  (20)\n",
    "  p = nullptr;                             // null  (20)  null\n",
    "\n",
    "\n",
    "  std::cout << \"sp1: \";\n",
    "  if (sp1) \n",
    "    std::cout << *sp1 << '\\n'; \n",
    "  else \n",
    "    std::cout << \"(null)\\n\";\n",
    "\n",
    "  std::cout << \"sp2: \";\n",
    "  if (sp2) \n",
    "    std::cout << *sp2 << '\\n'; \n",
    "  else \n",
    "    std::cout << \"(null)\\n\";\n",
    "\n",
    "  std::cout << \"p: \";\n",
    "  if (p) \n",
    "    std::cout << *p << '\\n'; \n",
    "  else std::cout << \"(null)\\n\";\n",
    "    std::cout << '\\n';\n",
    "}"
   ]
  },
  {
   "cell_type": "code",
   "execution_count": 36,
   "id": "90974ab3-cfe0-4fac-a09a-0cd20f2ec616",
   "metadata": {},
   "outputs": [
    {
     "name": "stdout",
     "output_type": "stream",
     "text": [
      "sp1: (null)\n",
      "sp2: 20\n",
      "p: (null)\n",
      "\n"
     ]
    },
    {
     "data": {
      "text/plain": [
       "0"
      ]
     },
     "execution_count": 36,
     "metadata": {},
     "output_type": "execute_result"
    }
   ],
   "source": [
    "main()"
   ]
  },
  {
   "cell_type": "markdown",
   "id": "54229a58-1191-4f90-a39f-18687f460139",
   "metadata": {},
   "source": [
    "## Vector"
   ]
  },
  {
   "cell_type": "markdown",
   "id": "fcc33c53-34ea-4cb3-885a-4e6a592d40a6",
   "metadata": {},
   "source": [
    "O programa usa várias funções para a manipulação de vector."
   ]
  },
  {
   "cell_type": "code",
   "execution_count": 37,
   "id": "3ac8a0df-7973-4dfd-9066-4907c249e0fd",
   "metadata": {},
   "outputs": [],
   "source": [
    "void mostra(std::vector<int>vet){\n",
    "    std::cout << \"Vetor - Tamanho \" << vet.size() << \" Elementos \";\n",
    "    for(auto it=vet.begin(); it!=vet.end(); it++){\n",
    "        std::cout << *it << \" \";\n",
    "    }\n",
    "    if(vet.empty())\n",
    "        std::cout << \" Vet vazio!\";\n",
    "    else\n",
    "        std::cout << \" Vet preenchido!\";\n",
    "    std::cout << \"\\n\";\n",
    "}"
   ]
  },
  {
   "cell_type": "code",
   "execution_count": 38,
   "id": "8fb970b0-4d75-4250-b2b8-9b7d2d4b9bc4",
   "metadata": {},
   "outputs": [],
   "source": [
    "#include <iostream>\n",
    "#include <vector>\n",
    "\n",
    "int main(){\n",
    "    std::vector<int>vet={0,1,2,3,4,5,6,7,8,9};\n",
    "    std::vector<int>::iterator it;\n",
    "\n",
    "    mostra(vet);\n",
    "\n",
    "    std::cout << vet[3] << \" \" << vet.at(3); //duas formas de acesso\n",
    "    std::cout << \" Primeiro elemento: \" << vet.front() << \" Último elemento: \" << vet.back() << \"\\n\";\n",
    "\n",
    "    vet.resize(5); // redimensiona o vetor\n",
    "    mostra(vet);\n",
    "\n",
    "    vet.resize(0);\n",
    "    mostra(vet);\n",
    "\n",
    "    it=vet.begin();\n",
    "    vet.insert(it, 5); // insere no início do vetor o 5\n",
    "    it=vet.begin()+1;\n",
    "    vet.insert(it, 6); // insere na posição begin+1\n",
    "    mostra(vet);\n",
    "}"
   ]
  },
  {
   "cell_type": "code",
   "execution_count": 39,
   "id": "ac50332f-3c51-4495-91bb-4dcb9b986dee",
   "metadata": {},
   "outputs": [
    {
     "name": "stdout",
     "output_type": "stream",
     "text": [
      "Vetor - Tamanho 10 Elementos 0 1 2 3 4 5 6 7 8 9  Vet preenchido!\n",
      "3 3 Primeiro elemento: 0 Último elemento: 9\n",
      "Vetor - Tamanho 5 Elementos 0 1 2 3 4  Vet preenchido!\n",
      "Vetor - Tamanho 0 Elementos  Vet vazio!\n",
      "Vetor - Tamanho 2 Elementos 5 6  Vet preenchido!\n"
     ]
    },
    {
     "data": {
      "text/plain": [
       "0"
      ]
     },
     "execution_count": 39,
     "metadata": {},
     "output_type": "execute_result"
    }
   ],
   "source": [
    "main()"
   ]
  },
  {
   "cell_type": "markdown",
   "id": "f6125224-d981-4e00-84c0-97d7df07a3bb",
   "metadata": {},
   "source": [
    "    /* vet.push_back() //adiciona um elemento no final do vetor\n",
    "       vet.pop_back() //remove um elemento no final do vetor\n",
    "       vet.push_front() //adiciona um elemento no ínicio do vetor\n",
    "       vet.pop_front() //remove um elemento no início do vetor\n",
    "       vet.clear //remove todos os elementos do vetor\n",
    "       vet1.swap(vet2) // troca os elementos do vet1 com o vet2\n",
    "    \n",
    "    */"
   ]
  },
  {
   "cell_type": "markdown",
   "id": "c065fb5f-f8f9-4018-91bb-bd344e69900f",
   "metadata": {},
   "source": [
    "\n",
    "## Templates"
   ]
  },
  {
   "cell_type": "markdown",
   "id": "6a1054c8-3da2-4c84-ac98-dc814516fa0f",
   "metadata": {},
   "source": [
    "O programa usa a função swap com template, isso permite que swap trabalhe em muitos tipos de dados diferentes sem ser reescrita para cada um."
   ]
  },
  {
   "cell_type": "code",
   "execution_count": 40,
   "id": "100abd22-a7a4-4399-ab3f-8be45d3cae85",
   "metadata": {},
   "outputs": [],
   "source": [
    "#include <iostream>\n",
    "\n",
    "template <typename T>\n",
    "void swap(T &arg1, T &arg2)\n",
    "{\n",
    "  T temp;\n",
    "  temp = arg1;\n",
    "  arg1 = arg2;\n",
    "  arg2 = temp;\n",
    "}\n",
    " \n",
    "int main()\n",
    "{\n",
    "  int n1 = 10, n2 = 20;\n",
    "  double d1 = 10.53, d2 = 20.54;\n",
    "  char c1 = 'A', c2 = 'Z';\n",
    "  std::cout << \"n1 = \" << n1 << \" n2 = \" << n2 << \"d1 = \" << d1 << \" d2 = \" << d2 << \" c1 = \" << c1 << \" c2 = \" << c2 << std::endl;\n",
    "   \n",
    "  swap(n1, n2);\n",
    "  swap(d1, d2);\n",
    "  swap(c1, c2);\n",
    "   \n",
    "  std::cout << \"n1 = \" << n1 << \" n2 = \" << n2 << \"d1 = \" << d1 << \" d2 = \" << d2 << \" c1 = \" << c1 << \" c2 = \" << c2 << std::endl;\n",
    "\n",
    "}"
   ]
  },
  {
   "cell_type": "code",
   "execution_count": 41,
   "id": "a13726be-7034-4b93-8fa7-6a7d54307a18",
   "metadata": {},
   "outputs": [
    {
     "name": "stdout",
     "output_type": "stream",
     "text": [
      "n1 = 10 n2 = 20d1 = 10.53 d2 = 20.54 c1 = A c2 = Z\n",
      "n1 = 20 n2 = 10d1 = 20.54 d2 = 10.53 c1 = Z c2 = A\n"
     ]
    },
    {
     "data": {
      "text/plain": [
       "0"
      ]
     },
     "execution_count": 41,
     "metadata": {},
     "output_type": "execute_result"
    }
   ],
   "source": [
    "main()"
   ]
  },
  {
   "cell_type": "markdown",
   "id": "a5ab3932-29bb-417b-94d7-eb7ec59962bb",
   "metadata": {},
   "source": [
    "\n",
    "## Números Aleatórios"
   ]
  },
  {
   "cell_type": "markdown",
   "id": "b235bcfc-8a0d-4a26-ba02-f70b946a0c1d",
   "metadata": {},
   "source": [
    "Printa valores aletórios de 0 a 100."
   ]
  },
  {
   "cell_type": "code",
   "execution_count": 42,
   "id": "c3f64fa6-d8cf-45c5-9ca6-bfa5d55a5752",
   "metadata": {},
   "outputs": [],
   "source": [
    "#include <iostream>\n",
    "#include <random>\n",
    "#include <functional>\n",
    "#include <chrono>\n",
    "\n",
    "int main(void)\n",
    "{\n",
    "    // a semente é o tempo desde 1/1/1970\n",
    "    auto seed = std::chrono::high_resolution_clock::now().time_since_epoch().count();\n",
    "    // gerador de números\n",
    "    std::default_random_engine generator(seed);\n",
    "    // numeros aleatórios de 0 até 100\n",
    "    auto rand = std::bind(std::uniform_int_distribution<int>{0,100}, generator);\n",
    "    for(auto i= 0; i < 10; i++){\n",
    "        std::cout << \" \" << rand();\n",
    "    }\n",
    "}"
   ]
  },
  {
   "cell_type": "code",
   "execution_count": 43,
   "id": "98d9fa03-960c-4c8b-858c-da0043fb78d2",
   "metadata": {},
   "outputs": [
    {
     "name": "stdout",
     "output_type": "stream",
     "text": [
      " 67 95 46 92 41 64 2 66 30 29"
     ]
    },
    {
     "data": {
      "text/plain": [
       "0"
      ]
     },
     "execution_count": 43,
     "metadata": {},
     "output_type": "execute_result"
    }
   ],
   "source": [
    "main()"
   ]
  },
  {
   "cell_type": "markdown",
   "id": "1c382d00-42bb-4934-8c6e-cfca50da0ab1",
   "metadata": {},
   "source": [
    "\n",
    "## Tempo"
   ]
  },
  {
   "cell_type": "markdown",
   "id": "72964676-85e1-405a-ad01-c8cba37e06b5",
   "metadata": {},
   "source": [
    "O programa seta o tempo do começo até o fim da ordenação do vetor e printa a contagem."
   ]
  },
  {
   "cell_type": "code",
   "execution_count": 44,
   "id": "e0073eb6-f7b6-484c-a2a9-52f01efad038",
   "metadata": {},
   "outputs": [],
   "source": [
    "#include <iostream>\n",
    "#include <vector>\n",
    "#include <chrono>\n",
    "\n",
    "int main(void)\n",
    "{\n",
    "   int i;\n",
    "   bool trocou=true;\n",
    "   auto inicio = std::chrono::system_clock::now();\n",
    "   std::vector<int> vet = {2,7,5,1,9,6,3,8,4,0};\n",
    "   while(trocou==true){\n",
    "       trocou=false;\n",
    "       for (i = 1; i < 10; i++){\n",
    "           if(vet[i-1]>vet[i]){\n",
    "               std::swap(vet[i-1],vet[i]);\n",
    "               trocou=true;\n",
    "           }\n",
    "       }\n",
    "   }\n",
    "    auto fim = std::chrono::system_clock::now();\n",
    "    auto tempo = std::chrono::duration_cast<std::chrono::microseconds>(fim-inicio).count();\n",
    "    std::cout << \"Tempo de ordenação(microsegundos): \" << std::fixed << tempo << std::endl;\n",
    "    for(i=0;i<10;i++){\n",
    "        std::cout<<vet[i]<<\" \";\n",
    "    }\n",
    "}"
   ]
  },
  {
   "cell_type": "code",
   "execution_count": 45,
   "id": "3ebda464-21fd-41b1-889e-0c82ba675b91",
   "metadata": {},
   "outputs": [
    {
     "name": "stdout",
     "output_type": "stream",
     "text": [
      "Tempo de ordenação(microsegundos): 8\n",
      "0 1 2 3 4 5 6 7 8 9 "
     ]
    },
    {
     "data": {
      "text/plain": [
       "0"
      ]
     },
     "execution_count": 45,
     "metadata": {},
     "output_type": "execute_result"
    }
   ],
   "source": [
    "main()"
   ]
  },
  {
   "cell_type": "markdown",
   "id": "889f81c0-0fcc-4b9b-9c14-b10d3564beac",
   "metadata": {},
   "source": [
    "\n",
    "## Funções Lambda"
   ]
  },
  {
   "cell_type": "markdown",
   "id": "02598876-04b6-4602-b4dd-acc415497158",
   "metadata": {},
   "source": [
    "Funções Lambda são uma forma mais simplificada e dinâmica de trabalhar com funções, é uma função anônima(sem nome) e pode ser anexada a uma variável ou a uma função, é capaz de ser usada a partir de onde ela foi declarada.\n",
    "Estrutura: [captura de variáveis](parâmetros)-> tipo_retorno {função}"
   ]
  },
  {
   "cell_type": "markdown",
   "id": "a6636a70-faf8-4a2c-a14f-2462ea95088d",
   "metadata": {},
   "source": [
    "O programa faz uso de uma função lamda, de tipo (int, int) -> int, que printa qual valor é maior;"
   ]
  },
  {
   "cell_type": "code",
   "execution_count": 46,
   "id": "de7e8eac-e4bb-46a6-9e1b-5ac922140a29",
   "metadata": {},
   "outputs": [],
   "source": [
    "#include<iostream>\n",
    "/* SEM LAMDA\n",
    "int maior(int n1, int n2){\n",
    "    return (n1>n2)?n1:n2;\n",
    "}\n",
    "\n",
    "int main(){\n",
    "    std::cout<<\"Maior: \"<< maior(5,9);\n",
    "}\n",
    "*/\n",
    "int main(){\n",
    "    auto maior=[](int n1, int n2)-> int{\n",
    "        return (n1>n2)?n1:n2;\n",
    "    };\n",
    "    std::cout<<\"Maior: \"<<maior(5,9);\n",
    "}"
   ]
  },
  {
   "cell_type": "code",
   "execution_count": 47,
   "id": "46a40fb8-aa7a-4b6b-a311-e9d08016de46",
   "metadata": {},
   "outputs": [
    {
     "name": "stdout",
     "output_type": "stream",
     "text": [
      "Maior: 9"
     ]
    },
    {
     "data": {
      "text/plain": [
       "0"
      ]
     },
     "execution_count": 47,
     "metadata": {},
     "output_type": "execute_result"
    }
   ],
   "source": [
    "main()"
   ]
  },
  {
   "cell_type": "markdown",
   "id": "8dd01257-da91-4b54-b6a3-8b7b393e527b",
   "metadata": {},
   "source": [
    "Exemplo com capture:"
   ]
  },
  {
   "cell_type": "code",
   "execution_count": 48,
   "id": "89c6485d-7e48-49f7-bbcc-cb90ff6236c6",
   "metadata": {},
   "outputs": [],
   "source": [
    "#include <iostream>\n",
    "/* SEM LAMDA\n",
    "int soma(int x1, int x2, int x3, int x4){\n",
    "    return x1+x2+x3+x4;\n",
    "}\n",
    "\n",
    "int main(){\n",
    "    int x1=10,x2=5,x3=2,x4=12;\n",
    "    std::cout << soma(x1,x2,x3,x4);\n",
    "}\n",
    "*/\n",
    "int main(){\n",
    "    int x1=10,x2=5,x3=2,x4=12;\n",
    "    \n",
    "    auto soma=[=]()->int{  // o = dentro dos colchetes sinaliza a\n",
    "        return x1+x2+x3+x4;// captura de todas as variáveis do escopo    \n",
    "    };\n",
    "    \n",
    "    std::cout << soma();\n",
    "}"
   ]
  },
  {
   "cell_type": "code",
   "execution_count": 49,
   "id": "bbb98ea7-9371-4605-804c-5989d4be1750",
   "metadata": {},
   "outputs": [
    {
     "name": "stdout",
     "output_type": "stream",
     "text": [
      "29"
     ]
    },
    {
     "data": {
      "text/plain": [
       "0"
      ]
     },
     "execution_count": 49,
     "metadata": {},
     "output_type": "execute_result"
    }
   ],
   "source": [
    "main()"
   ]
  },
  {
   "cell_type": "markdown",
   "id": "fd16c45e-bbce-41aa-ba5f-684a42406dba",
   "metadata": {},
   "source": [
    "Por padrão as variáveis externas da função lambda são capturadas com o tipo const e não podem ser alteradas, por isso podemos remover essa característica com mutable."
   ]
  },
  {
   "cell_type": "code",
   "execution_count": 50,
   "id": "60f8064b-5118-4b25-9466-61067b6301b5",
   "metadata": {},
   "outputs": [],
   "source": [
    "#include <iostream>\n",
    "/* SEM LAMDA\n",
    "void decresce(int num){\n",
    "    num--; \n",
    "    std::cout << num << std::endl;\n",
    "}\n",
    "\n",
    "int main(){\n",
    "    int num=10;\n",
    "    decresce(num);\n",
    "    std::cout << num;\n",
    "}\n",
    "*/\n",
    "int main()\n",
    "{\n",
    "    int num=10;\n",
    "\n",
    "    auto decresce=[num]()mutable{ \n",
    "        num--; \n",
    "        std::cout << num << std::endl;\n",
    "    };\n",
    "    decresce();\n",
    "    std::cout << num;\n",
    "}"
   ]
  },
  {
   "cell_type": "code",
   "execution_count": 51,
   "id": "940792ef-1b46-4c7e-963b-6e45af7661ff",
   "metadata": {},
   "outputs": [
    {
     "name": "stdout",
     "output_type": "stream",
     "text": [
      "9\n",
      "10"
     ]
    },
    {
     "data": {
      "text/plain": [
       "0"
      ]
     },
     "execution_count": 51,
     "metadata": {},
     "output_type": "execute_result"
    }
   ],
   "source": [
    "main()"
   ]
  },
  {
   "cell_type": "markdown",
   "id": "6953cebd-5116-4daa-89f2-3a45f8424c9a",
   "metadata": {},
   "source": [
    "Passando por referência:"
   ]
  },
  {
   "cell_type": "code",
   "execution_count": 52,
   "id": "57b32d8f-e7aa-4c3c-9bb5-3cb46b0fe4b8",
   "metadata": {},
   "outputs": [],
   "source": [
    "#include <iostream>\n",
    "/* SEM LAMDA\n",
    "void decresce(int &num){\n",
    "    num--; \n",
    "    std::cout << num << std::endl;\n",
    "}\n",
    "\n",
    "int main(){\n",
    "    int num=10;\n",
    "    decresce(num);\n",
    "    std::cout << num;\n",
    "}\n",
    "*/\n",
    "int main()\n",
    "{\n",
    "    int num=10;\n",
    "\n",
    "    auto decresce=[&num](){ // &num significa que num é capturada por referência\n",
    "        num--; // mudanças em num afetam o num da main\n",
    "        std::cout << num << std::endl;\n",
    "    };\n",
    "    decresce();\n",
    "    std::cout << num;\n",
    "}"
   ]
  },
  {
   "cell_type": "code",
   "execution_count": 53,
   "id": "d6e07255-ee30-4e7f-8cf1-045e8bd13dfa",
   "metadata": {},
   "outputs": [
    {
     "name": "stdout",
     "output_type": "stream",
     "text": [
      "9\n",
      "9"
     ]
    },
    {
     "data": {
      "text/plain": [
       "0"
      ]
     },
     "execution_count": 53,
     "metadata": {},
     "output_type": "execute_result"
    }
   ],
   "source": [
    "main()"
   ]
  },
  {
   "cell_type": "markdown",
   "id": "0cd08e8e-406e-4b8e-9916-840f850815f5",
   "metadata": {},
   "source": [
    "## Listas"
   ]
  },
  {
   "cell_type": "markdown",
   "id": "3efc50bb-094b-4812-9026-4ee6f3942a45",
   "metadata": {},
   "source": [
    "list<T> lista duplamente encadeada\n",
    "forward_list<T> lista encadeada"
   ]
  },
  {
   "cell_type": "markdown",
   "id": "ad94b697-7856-4915-a371-a5210fc7d68f",
   "metadata": {},
   "source": [
    "O programa usa diversas funções da biblioteca list e printa elas."
   ]
  },
  {
   "cell_type": "code",
   "execution_count": 54,
   "id": "6f2d08f7-b21d-423d-bfca-e021dd4a0ea1",
   "metadata": {},
   "outputs": [],
   "source": [
    "void mostra(std::list<int>l1){\n",
    "    for(auto it=l1.begin();it!=l1.end();it++){\n",
    "        std::cout << *it << \" \";\n",
    "    }\n",
    "    \n",
    "    std::cout << \" Tamanho: \" << l1.size() << \" Primeiro Elemento: \" << l1.front() << \" Último Elemento: \" << l1.back();\n",
    "    \n",
    "    if(l1.empty())\n",
    "        std::cout << \"\\nLista vazia\\n\";\n",
    "    else\n",
    "        std::cout << \"\\nLista preenchida\\n\";\n",
    "}"
   ]
  },
  {
   "cell_type": "code",
   "execution_count": 55,
   "id": "07f55f8e-6ec6-45e3-b96f-3b405c153153",
   "metadata": {},
   "outputs": [],
   "source": [
    "#include <iostream>\n",
    "#include <list>\n",
    "\n",
    "int main(){\n",
    "    std::list<int>l1={1,2,3,4};\n",
    "    std::list<int>l2(5, 2); // lista com cinco elementos de 2\n",
    "    std::list<int>::iterator it;\n",
    "\n",
    "    l1.push_back(5);\n",
    "    l1.push_front(0);\n",
    "    //l1.pop_back();\n",
    "    //l1.pop_front();\n",
    "\n",
    "    it=l1.end();\n",
    "    l1.insert(it, 2); //insere 2 no final da lista\n",
    "\n",
    "    //it--;\n",
    "    //l1.erase(it); // exclui o último elemento\n",
    "\n",
    "    l1.remove(2); // remove todos os 2 da lista\n",
    "\n",
    "    l1.sort(); // ordena a lista de forma crescente\n",
    "\n",
    "    //l1.unique(); // remove elementos duplicados\n",
    "\n",
    "    mostra(l1);\n",
    "\n",
    "    while(!l1.empty()){\n",
    "        l1.pop_back();\n",
    "    }\n",
    "\n",
    "    mostra(l1);\n",
    "\n",
    "    std::cout <<\"Capacidade maxima: \" << l1.max_size();\n",
    "}"
   ]
  },
  {
   "cell_type": "code",
   "execution_count": 56,
   "id": "80db2ecf-43be-4331-b7e2-7ac301c3466d",
   "metadata": {},
   "outputs": [
    {
     "name": "stdout",
     "output_type": "stream",
     "text": [
      "0 1 3 4 5  Tamanho: 5 Primeiro Elemento: 0 Último Elemento: 5\n",
      "Lista preenchida\n",
      " Tamanho: 0 Primeiro Elemento: 0 Último Elemento: 0\n",
      "Lista vazia\n",
      "Capacidade maxima: 384307168202282325"
     ]
    }
   ],
   "source": [
    "main();"
   ]
  },
  {
   "cell_type": "markdown",
   "id": "b9028fb5-26ea-400a-b50b-cf0b4593c8b2",
   "metadata": {},
   "source": [
    "Exemplo com lista encadeada e algumas de suas funções."
   ]
  },
  {
   "cell_type": "code",
   "execution_count": 1,
   "id": "fef1e6b6-2eee-493e-85a2-127bd5b78c04",
   "metadata": {},
   "outputs": [],
   "source": [
    "#include <iostream>\n",
    "#include <forward_list>\n",
    "\n",
    "int main()\n",
    "{\n",
    "    std::forward_list<int> l1;\n",
    "    std::forward_list<int>::iterator ptr;\n",
    "    l1.assign({ 5, 9, 10 }); // adiciona 3 elementos na lista\n",
    "    l1.push_front(4);\n",
    "    l1.pop_front();\n",
    "    ptr = l1.insert_after(l1.begin(), { 6, 7, 8, 10 }); // insere os valores a partir da segunda posiçao\n",
    "    l1.remove(10); // remove todas as ocorrencias de 10\n",
    "    for (int& element : l1)\n",
    "        std::cout << element << \" \";\n",
    "    std::cout << std::endl;\n",
    "    return 0;\n",
    "}"
   ]
  },
  {
   "cell_type": "code",
   "execution_count": 2,
   "id": "e10d12e6-060e-4ac1-a04a-dc9098190f06",
   "metadata": {},
   "outputs": [
    {
     "name": "stdout",
     "output_type": "stream",
     "text": [
      "5 6 7 8 9 \n"
     ]
    }
   ],
   "source": [
    "main();"
   ]
  },
  {
   "cell_type": "markdown",
   "id": "129c74a7-0a67-4f47-9e27-89df2f791117",
   "metadata": {},
   "source": [
    "## Pilhas"
   ]
  },
  {
   "cell_type": "markdown",
   "id": "b4ed96bf-40fe-4a24-9dc3-51206c31ce14",
   "metadata": {},
   "source": [
    "O programa manipula pilhas e printa os resultados."
   ]
  },
  {
   "cell_type": "code",
   "execution_count": 57,
   "id": "98a54252-c762-4130-ace8-24ff151e6d71",
   "metadata": {},
   "outputs": [],
   "source": [
    "#include <iostream>\n",
    "#include <stack>\n",
    "\n",
    "int main()\n",
    "{\n",
    "    std::stack<int>pilha1, pilha2;\n",
    "    pilha1.push(1);\n",
    "    pilha1.push(2);\n",
    "    pilha1.push(3);\n",
    "    pilha1.push(4);\n",
    "    \n",
    "    pilha1.swap(pilha2); // troca os valores de cada pilha\n",
    "    \n",
    "    std::cout << \"Número de elementos na pilha: \" << pilha2.size() << std::endl;\n",
    "    \n",
    "    while(!pilha2.empty()){\n",
    "        std::cout << pilha2.top() << \" \";\n",
    "        pilha2.pop();\n",
    "    }\n",
    "\n",
    "    if(pilha2.empty())\n",
    "        std::cout << \"\\nPilha vazia\\n\";\n",
    "    else\n",
    "        std::cout << \"\\nPilha preenchida\\n\";\n",
    "        \n",
    "    std::cout << \"Número de elementos na pilha: \" << pilha2.size() << std::endl;\n",
    "}"
   ]
  },
  {
   "cell_type": "code",
   "execution_count": 58,
   "id": "6c072f00-844e-40db-b768-821c1233ad6a",
   "metadata": {},
   "outputs": [
    {
     "name": "stdout",
     "output_type": "stream",
     "text": [
      "Número de elementos na pilha: 4\n",
      "4 3 2 1 \n",
      "Pilha vazia\n",
      "Número de elementos na pilha: 0\n"
     ]
    }
   ],
   "source": [
    "main();"
   ]
  },
  {
   "cell_type": "markdown",
   "id": "56c915cc-11d3-4275-b374-4d06f885ea75",
   "metadata": {},
   "source": [
    "## Map"
   ]
  },
  {
   "cell_type": "markdown",
   "id": "2047278d-91a1-494d-a1bf-fa1ba8418b4c",
   "metadata": {},
   "source": [
    "O programa usa o container map, char como chave para um valor int e printa os respectivos valores."
   ]
  },
  {
   "cell_type": "code",
   "execution_count": 59,
   "id": "25e80c2b-fe13-4909-a23d-0ba3e9823e2d",
   "metadata": {},
   "outputs": [],
   "source": [
    "#include <iostream>\n",
    "#include <map>\n",
    "\n",
    "int main()\n",
    "{\n",
    "    std::map<char, int>numero;\n",
    "    numero['a'] = 9; //chave a e valor 9\n",
    "    numero['b'] = 2;\n",
    "    numero['c'] = 4;\n",
    "    numero['d'] = 7;\n",
    "    numero.insert(std::pair<char,int>('e',6));\n",
    "    \n",
    "    for(auto it=numero.begin();it!=numero.end();it++){\n",
    "        std::cout << it->first << \" \" << it->second << \"  \";\n",
    "    }\n",
    "    std::cout << \"\\n\";\n",
    "    \n",
    "    numero.erase('c');\n",
    "    //numero.clear(); //apaga todos os elementos\n",
    "    for(auto it=numero.begin();it!=numero.end();it++){\n",
    "        std::cout << it->first << \" \" << it->second << \"  \";\n",
    "    }\n",
    "}"
   ]
  },
  {
   "cell_type": "code",
   "execution_count": 60,
   "id": "eb8a1d6b-0c7f-42a0-91bf-2174e629bf6d",
   "metadata": {},
   "outputs": [
    {
     "name": "stdout",
     "output_type": "stream",
     "text": [
      "a 9  b 2  c 4  d 7  e 6  \n",
      "a 9  b 2  d 7  e 6  "
     ]
    }
   ],
   "source": [
    "main();"
   ]
  },
  {
   "cell_type": "markdown",
   "id": "4465604e-b70b-4c46-a325-da93b3fff1e3",
   "metadata": {},
   "source": [
    "O programa usa o container map, int como chave para uma string, "
   ]
  },
  {
   "cell_type": "code",
   "execution_count": 61,
   "id": "01ceca00-8ee8-4252-8886-09f58471b11c",
   "metadata": {},
   "outputs": [],
   "source": [
    "#include <iostream>\n",
    "#include <map>\n",
    "\n",
    "int main()\n",
    "{\n",
    "    std::map<int,std::string>produto;\n",
    "    std::map<int,std::string>::iterator itmap;\n",
    "    produto.insert(std::pair<int,std::string>(1,\"Fone\"));\n",
    "    produto.insert(std::pair<int,std::string>(2,\"Teclado\"));\n",
    "    produto.insert(std::pair<int,std::string>(3,\"Memória\"));\n",
    "    produto.insert(std::pair<int,std::string>(4,\"COntrole\"));\n",
    "    \n",
    "    itmap=produto.find(3);\n",
    "    if(itmap==produto.end())\n",
    "        std::cout << \"Produto não encontrado./n\";\n",
    "    else\n",
    "        std::cout << \"Produto: código \" << itmap->first << \" item \" << itmap->second;\n",
    "\n",
    "    itmap=produto.find(5);\n",
    "    if(itmap==produto.end())\n",
    "        std::cout << \"\\nProduto não encontrado./n\";\n",
    "    else\n",
    "        std::cout << \"\\nProduto: código \" << itmap->first << \" item \" << itmap->second;   \n",
    "}"
   ]
  },
  {
   "cell_type": "code",
   "execution_count": 62,
   "id": "b91298d7-e0d0-4b2b-906d-cd36f38bd226",
   "metadata": {},
   "outputs": [
    {
     "name": "stdout",
     "output_type": "stream",
     "text": [
      "Produto: código 3 item Memória\n",
      "Produto não encontrado./n"
     ]
    }
   ],
   "source": [
    "main();"
   ]
  },
  {
   "cell_type": "markdown",
   "id": "f9ac739d-810c-41a4-ae4b-7b773c04077c",
   "metadata": {},
   "source": [
    "\n",
    "## Containers C++ STL"
   ]
  },
  {
   "cell_type": "markdown",
   "id": "659158ee-e4fe-4999-b12e-53c74fbe950d",
   "metadata": {},
   "source": [
    "O programa usa métodos da STL para manimular e modificar os containers."
   ]
  },
  {
   "cell_type": "code",
   "execution_count": 7,
   "id": "965d91f4-dbcd-4e55-9d01-639caa12c34a",
   "metadata": {},
   "outputs": [],
   "source": [
    "#include <iostream>\n",
    "#include <queue>\n",
    "#include <algorithm>\n",
    "\n",
    "int main()\n",
    "{\n",
    "    std::queue<int> fila; // usa a estrutura de dados fila\n",
    "    fila.push(1);\n",
    "    fila.push(2);\n",
    "    fila.push(3);\n",
    "    fila.push(4);\n",
    "    fila.push(5);\n",
    "    std::cout << fila.size() << std::endl; //Número de elementos da fila\n",
    "    if(fila.empty()) //Retorna 1 se a fila estiver vazia\n",
    "        std::cout << \"Fila vazia\" << std::endl;\n",
    "    else\n",
    "        std::cout << \"Fila preenchida\" << std::endl;\n",
    "        \n",
    "}"
   ]
  },
  {
   "cell_type": "code",
   "execution_count": 8,
   "id": "a5acb071-fd36-4b7c-b19c-e8bfcf21c8ed",
   "metadata": {},
   "outputs": [
    {
     "name": "stdout",
     "output_type": "stream",
     "text": [
      "5\n",
      "Fila preenchida\n"
     ]
    },
    {
     "data": {
      "text/plain": [
       "0"
      ]
     },
     "execution_count": 8,
     "metadata": {},
     "output_type": "execute_result"
    }
   ],
   "source": [
    "main()"
   ]
  },
  {
   "cell_type": "markdown",
   "id": "325701f4-631e-4ed5-b950-1636d14e20fe",
   "metadata": {},
   "source": [
    "\n",
    "Exemplos do uso de copy_n, count e find.\n",
    "\n",
    "copy_n : copia os primeiros n elementos partindo de vet.begin e passa para vet2 partindo de vet2.begin\n",
    "\n",
    "count : retorna o número de ocorrências de 3 entre vet.begin e vet.end\n",
    "\n",
    "find : retorna um iterador para o primeiro elemento buscado no intervalo vet.begin e vet.end, caso não for achado é retornado o vet.end"
   ]
  },
  {
   "cell_type": "code",
   "execution_count": 3,
   "id": "c30aa685-decb-41b4-89ed-a1e3ea5a5ed4",
   "metadata": {},
   "outputs": [],
   "source": [
    "#include <iostream>\n",
    "#include <vector>\n",
    "#include <algorithm>\n",
    "\n",
    "int main(void) {\n",
    "   std::vector<int> vet = {1, 3, 6, 3, 9};\n",
    "   std::vector<int> vet2(5);\n",
    "   std::copy_n(vet.begin(), 5, vet2.begin()); // copia as cinco posiçoes de vet para vet 2;\n",
    "   int cont;\n",
    "   std::vector<int>::iterator it;\n",
    "   \n",
    "   cont = std::count(vet.begin(), vet.end(), 3);\n",
    "   std::cout << \"Ocorrencia de 3 no vetor: \" << cont << std::endl;\n",
    "   \n",
    "   it = find(vet.begin(), vet.end(), 6);\n",
    "   if(it!= vet.end())\n",
    "        std::cout << \"Numero encontrado\" << std::endl;\n",
    "   else\n",
    "        std::cout << \"Numero nao esta no vetor\" << std::endl;\n",
    "        \n",
    "}"
   ]
  },
  {
   "cell_type": "code",
   "execution_count": 4,
   "id": "9197bdeb-ae35-49bf-a8c5-b71d503c9456",
   "metadata": {},
   "outputs": [
    {
     "name": "stdout",
     "output_type": "stream",
     "text": [
      "Ocorrencia de 3 no vetor: 2\n",
      "Numero encontrado\n"
     ]
    },
    {
     "data": {
      "text/plain": [
       "0"
      ]
     },
     "execution_count": 4,
     "metadata": {},
     "output_type": "execute_result"
    }
   ],
   "source": [
    "main()"
   ]
  },
  {
   "cell_type": "markdown",
   "id": "bf309959-e86c-48fa-a44e-3bdfcf3e3bcc",
   "metadata": {},
   "source": [
    "\n",
    "Exemplo do uso do for_each:\n",
    "\n",
    "for_each : aplica uma função no intervalo de vet.begin até vet.end"
   ]
  },
  {
   "cell_type": "code",
   "execution_count": 5,
   "id": "2d6e8423-e627-44a0-9600-ec0f447b41e6",
   "metadata": {},
   "outputs": [],
   "source": [
    "#include <iostream>\n",
    "#include <vector>\n",
    "#include <algorithm>\n",
    "\n",
    "int main(){\n",
    "    std::vector<int> vet = {0,1,2,3,4,5};\n",
    "    //for_each é uma função com 3 parâmetros\n",
    "    std::for_each(vet.begin(),vet.end(),[](int num){ //início da estrutura, fim da estrutura e \n",
    "        num+=10;                                     // e a função que vai ser aplicada\n",
    "        std::cout << num << \" \";                     // exemplo com função lambda\n",
    "    });\n",
    "    std::cout << std::endl;\n",
    "    //alteração é feita somente na função\n",
    "    std::for_each(vet.begin(),vet.end(),[](int num){ std::cout << num << \" \"; });\n",
    "}"
   ]
  },
  {
   "cell_type": "code",
   "execution_count": 6,
   "id": "0a9923d4-143c-4e94-8854-7ef452565a5b",
   "metadata": {},
   "outputs": [
    {
     "name": "stdout",
     "output_type": "stream",
     "text": [
      "10 11 12 13 14 15 \n",
      "0 1 2 3 4 5 "
     ]
    },
    {
     "data": {
      "text/plain": [
       "0"
      ]
     },
     "execution_count": 6,
     "metadata": {},
     "output_type": "execute_result"
    }
   ],
   "source": [
    "main()"
   ]
  },
  {
   "cell_type": "markdown",
   "id": "7f3d47d9-0da9-41c6-9fa2-d9d7071d25d5",
   "metadata": {},
   "source": [
    "\n",
    "O programa soma 10 a cada elemento do vector. Exemplo do uso do transfrom:\n",
    "\n",
    "transform: aplica uma função em um intervalo vet.begin até vet.end e guarda o resultado a partir de vet.begin"
   ]
  },
  {
   "cell_type": "code",
   "execution_count": 69,
   "id": "5fe86c8d-102b-4b8b-8ac2-75f07b1ca5be",
   "metadata": {},
   "outputs": [],
   "source": [
    "int soma10(int num){\n",
    "    return (num+10);\n",
    "}"
   ]
  },
  {
   "cell_type": "code",
   "execution_count": 70,
   "id": "522fc959-3a81-4045-9008-9819e28a9e44",
   "metadata": {},
   "outputs": [],
   "source": [
    "#include <iostream>\n",
    "#include <vector>\n",
    "#include <algorithm>\n",
    "\n",
    "int main(){\n",
    "    std::vector<int> vet = {0,1,2,3,4,5};\n",
    "    std::transform(vet.begin(), vet.end(), vet.begin(), soma10);\n",
    "    for(auto it:vet){\n",
    "        std::cout << it << \" \";\n",
    "    }\n",
    "}"
   ]
  },
  {
   "cell_type": "code",
   "execution_count": 71,
   "id": "953e5663-e789-41e3-8162-31c48763ee8d",
   "metadata": {},
   "outputs": [
    {
     "name": "stdout",
     "output_type": "stream",
     "text": [
      "10 11 12 13 14 15 "
     ]
    },
    {
     "data": {
      "text/plain": [
       "0"
      ]
     },
     "execution_count": 71,
     "metadata": {},
     "output_type": "execute_result"
    }
   ],
   "source": [
    "main()"
   ]
  },
  {
   "cell_type": "markdown",
   "id": "348dd4f9-73d6-47a5-8679-960adce6dd5f",
   "metadata": {},
   "source": [
    "O programa ordena e remove os elementos duplicados usando sort, unique e erase."
   ]
  },
  {
   "cell_type": "code",
   "execution_count": 83,
   "id": "0f8684a0-9469-4e01-b3cb-9a0350958af5",
   "metadata": {},
   "outputs": [],
   "source": [
    "void mostra(std::vector<int> vet){\n",
    "    for(auto it:vet){\n",
    "        std::cout << it << \" \";\n",
    "    }\n",
    "    std::cout << std::endl;\n",
    "}"
   ]
  },
  {
   "cell_type": "code",
   "execution_count": 84,
   "id": "35e5c726-bd84-4810-95e8-2835da39f198",
   "metadata": {},
   "outputs": [],
   "source": [
    "#include <iostream>\n",
    "#include <vector>\n",
    "#include <algorithm>\n",
    "\n",
    "int main(){\n",
    "    std::vector<int> vet = {0,5,6,7,8,5,6,4,2,1,3,5,4,9,1,6,4,3};\n",
    "    std::sort(vet.begin(), vet.end()); //ordena o vetor\n",
    "    mostra(vet);\n",
    "    auto pos = unique(vet.begin(), vet.end()); //unique não remove elementos duplicados, ele joga para o final da sequencia além de pos\n",
    "    mostra(vet);\n",
    "    vet.erase(pos, vet.end()); // erase remove do vetor um intervalo de elementos\n",
    "    mostra(vet);\n",
    "}"
   ]
  },
  {
   "cell_type": "code",
   "execution_count": 85,
   "id": "f14be1f4-bd2a-473c-b209-948d68bc8bd8",
   "metadata": {},
   "outputs": [
    {
     "name": "stdout",
     "output_type": "stream",
     "text": [
      "0 1 1 2 3 3 4 4 4 5 5 5 6 6 6 7 8 9 \n",
      "0 1 2 3 4 5 6 7 8 9 5 5 6 6 6 7 8 9 \n",
      "0 1 2 3 4 5 6 7 8 9 \n"
     ]
    },
    {
     "data": {
      "text/plain": [
       "0"
      ]
     },
     "execution_count": 85,
     "metadata": {},
     "output_type": "execute_result"
    }
   ],
   "source": [
    "main()"
   ]
  }
 ],
 "metadata": {
  "kernelspec": {
   "display_name": "C++17",
   "language": "C++17",
   "name": "xcpp17"
  },
  "language_info": {
   "codemirror_mode": "text/x-c++src",
   "file_extension": ".cpp",
   "mimetype": "text/x-c++src",
   "name": "c++",
   "version": "17"
  }
 },
 "nbformat": 4,
 "nbformat_minor": 5
}
